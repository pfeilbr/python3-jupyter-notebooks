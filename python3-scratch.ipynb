{
 "cells": [
  {
   "cell_type": "markdown",
   "metadata": {},
   "source": [
    "## pip api"
   ]
  },
  {
   "cell_type": "code",
   "execution_count": 4,
   "metadata": {},
   "outputs": [
    {
     "output_type": "stream",
     "name": "stderr",
     "text": [
      "WARNING: pip is being invoked by an old script wrapper. This will fail in a future version of pip.\n",
      "Please see https://github.com/pypa/pip/issues/5599 for advice on fixing the underlying issue.\n",
      "To avoid this problem you can invoke Python with '-m pip' instead of running pip directly.\n",
      "Package           Version\n",
      "----------------- -------\n",
      "appnope           0.1.2\n",
      "backcall          0.2.0\n",
      "cycler            0.10.0\n",
      "dataclasses       0.8\n",
      "decorator         4.4.2\n",
      "ipykernel         5.4.3\n",
      "ipython           7.16.1\n",
      "ipython-genutils  0.2.0\n",
      "jedi              0.18.0\n",
      "jupyter-client    6.1.11\n",
      "jupyter-core      4.7.0\n",
      "kiwisolver        1.3.1\n",
      "matplotlib        3.3.3\n",
      "numpy             1.19.5\n",
      "pandas            1.1.5\n",
      "parso             0.8.1\n",
      "pexpect           4.8.0\n",
      "pickleshare       0.7.5\n",
      "Pillow            8.1.0\n",
      "pip               20.3.3\n",
      "prompt-toolkit    3.0.10\n",
      "ptyprocess        0.7.0\n",
      "Pygments          2.7.4\n",
      "pyparsing         2.4.7\n",
      "python-dateutil   2.8.1\n",
      "pytz              2020.5\n",
      "pyzmq             21.0.1\n",
      "scipy             1.5.4\n",
      "seaborn           0.11.1\n",
      "setuptools        51.0.0\n",
      "six               1.15.0\n",
      "torch             1.7.1\n",
      "tornado           6.1\n",
      "traitlets         4.3.3\n",
      "typing-extensions 3.7.4.3\n",
      "wcwidth           0.2.5\n",
      "wheel             0.36.2\n",
      "WARNING: pip is being invoked by an old script wrapper. This will fail in a future version of pip.\n",
      "Please see https://github.com/pypa/pip/issues/5599 for advice on fixing the underlying issue.\n",
      "To avoid this problem you can invoke Python with '-m pip' instead of running pip directly.\n",
      "WARNING: Package(s) not found: jupyter\n"
     ]
    },
    {
     "output_type": "execute_result",
     "data": {
      "text/plain": [
       "1"
      ]
     },
     "metadata": {},
     "execution_count": 4
    }
   ],
   "source": [
    "import pip\n",
    "\n",
    "pip.main(['list'])\n",
    "pip.main(['show', 'jupyter'])"
   ]
  },
  {
   "cell_type": "markdown",
   "metadata": {},
   "source": [
    "## pandas"
   ]
  },
  {
   "cell_type": "code",
   "execution_count": null,
   "metadata": {},
   "outputs": [],
   "source": [
    "import pandas as pd\n",
    "pd.Series(list('abc'))"
   ]
  },
  {
   "cell_type": "code",
   "execution_count": null,
   "metadata": {},
   "outputs": [],
   "source": [
    "%matplotlib inline\n",
    "import pandas as pd\n",
    "import numpy as np\n",
    "import pylab as plt\n",
    "import seaborn\n",
    "\n",
    "# Set the global default size of matplotlib figures\n",
    "plt.rc('figure', figsize=(10, 5))\n",
    "\n",
    "# Set seaborn aesthetic parameters to defaults\n",
    "seaborn.set()\n",
    "\n",
    "x = np.linspace(0, 2, 10)\n",
    "y = np.linspace(0, 4, 10)\n",
    "\n",
    "plt.plot(x, y, 'o-', label='linear')\n",
    "plt.plot(x, x ** 2, 'x-', label='quadratic')\n",
    "\n",
    "plt.legend()\n",
    "plt.title('Linear vs Quadratic progression')\n",
    "plt.xlabel('Input')\n",
    "plt.ylabel('Output')\n",
    "\n",
    "plt.show()\n",
    "\n",
    "plt.hist(np.random.normal(loc=1.0, scale=0.5, size=1000), bins=50)\n",
    "plt.show()"
   ]
  },
  {
   "cell_type": "markdown",
   "metadata": {},
   "source": [
    "# PyTorch"
   ]
  },
  {
   "cell_type": "code",
   "execution_count": 3,
   "metadata": {},
   "outputs": [
    {
     "output_type": "stream",
     "name": "stdout",
     "text": [
      "tensor([[27., 27.],\n        [27., 27.]], grad_fn=<MulBackward0>) tensor(27., grad_fn=<MeanBackward0>)\ntensor([[4.5000, 4.5000],\n        [4.5000, 4.5000]])\n"
     ]
    }
   ],
   "source": [
    "import torch\n",
    "from torch.autograd import Variable\n",
    "\n",
    "x = Variable(torch.ones(2,2), requires_grad=True)\n",
    "\n",
    "y = x + 2\n",
    "z = y * y * 3\n",
    "out = z.mean()\n",
    "print(z, out)\n",
    "out.backward()\n",
    "print(x.grad)"
   ]
  },
  {
   "cell_type": "code",
   "execution_count": null,
   "metadata": {},
   "outputs": [],
   "source": []
  }
 ],
 "metadata": {
  "kernelspec": {
   "name": "python3",
   "display_name": "Python 3",
   "language": "python"
  },
  "language_info": {
   "codemirror_mode": {
    "name": "ipython",
    "version": 3
   },
   "file_extension": ".py",
   "mimetype": "text/x-python",
   "name": "python",
   "nbconvert_exporter": "python",
   "pygments_lexer": "ipython3",
   "version": "3.6.11-final"
  }
 },
 "nbformat": 4,
 "nbformat_minor": 2
}